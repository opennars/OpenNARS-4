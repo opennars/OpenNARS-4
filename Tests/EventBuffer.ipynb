{
 "cells": [
  {
   "cell_type": "code",
   "execution_count": 1,
   "metadata": {},
   "outputs": [
    {
     "name": "stdout",
     "output_type": "stream",
     "text": [
      "PyNARS version v0.0.2 pre-alpha\n",
      "The file `config.json` does not exist.\n",
      "Loaded config file: /Users/bowenxu/Codes/pynars/Tests/../pynars/config.json\n"
     ]
    }
   ],
   "source": [
    "import sys; sys.path.append(\"..\") if \"..\" not in sys.path else None\n",
    "from pynars.NARS.DataStructures._py.EventBuffer import EventBuffer\n",
    "from pynars.Narsese import Term, Task, Judgement"
   ]
  },
  {
   "cell_type": "code",
   "execution_count": 2,
   "metadata": {},
   "outputs": [],
   "source": [
    "eb = EventBuffer(5, 1000)"
   ]
  },
  {
   "cell_type": "code",
   "execution_count": 3,
   "metadata": {},
   "outputs": [],
   "source": [
    "seq = ['A', 'B', 'C', 'D']\n",
    "seq_events = [Task(Judgement(Term(word))) for word in seq]"
   ]
  },
  {
   "cell_type": "code",
   "execution_count": 4,
   "metadata": {},
   "outputs": [
    {
     "data": {
      "text/plain": [
       "array([<Table: #items=0, capacity=5>, <Table: #items=0, capacity=5>,\n",
       "       <Table: #items=0, capacity=5>, <Table: #items=0, capacity=5>,\n",
       "       <Table: #items=0, capacity=5>], dtype=object)"
      ]
     },
     "execution_count": 4,
     "metadata": {},
     "output_type": "execute_result"
    }
   ],
   "source": [
    "eb.slots.future"
   ]
  },
  {
   "cell_type": "code",
   "execution_count": 5,
   "metadata": {},
   "outputs": [],
   "source": [
    "for event in seq_events:\n",
    "    eb.append([event])"
   ]
  },
  {
   "cell_type": "code",
   "execution_count": 6,
   "metadata": {},
   "outputs": [
    {
     "data": {
      "text/plain": [
       "[<Term: D>,\n",
       " <Compound: (&/, C, D)>,\n",
       " <Compound: (&/, B, C, D)>,\n",
       " <Compound: (&/, A, B, C, D)>]"
      ]
     },
     "execution_count": 6,
     "metadata": {},
     "output_type": "execute_result"
    }
   ],
   "source": [
    "eb.combination()"
   ]
  },
  {
   "cell_type": "code",
   "execution_count": 7,
   "metadata": {},
   "outputs": [
    {
     "data": {
      "text/plain": [
       "[<Term: C>, <Compound: (&/, B, C)>, <Compound: (&/, A, B, C)>]"
      ]
     },
     "execution_count": 7,
     "metadata": {},
     "output_type": "execute_result"
    }
   ],
   "source": [
    "eb.combination(1)\n"
   ]
  },
  {
   "cell_type": "code",
   "execution_count": 8,
   "metadata": {},
   "outputs": [
    {
     "ename": "TypeError",
     "evalue": "'list' object cannot be interpreted as an integer",
     "output_type": "error",
     "traceback": [
      "\u001b[0;31m---------------------------------------------------------------------------\u001b[0m",
      "\u001b[0;31mTypeError\u001b[0m                                 Traceback (most recent call last)",
      "\u001b[1;32m/Users/bowenxu/Codes/pynars/Tests/EventBuffer.ipynb Cell 8\u001b[0m in \u001b[0;36m1\n\u001b[0;32m----> <a href='vscode-notebook-cell:/Users/bowenxu/Codes/pynars/Tests/EventBuffer.ipynb#X20sZmlsZQ%3D%3D?line=0'>1</a>\u001b[0m eb\u001b[39m.\u001b[39;49mgenerate_predictions()\n",
      "File \u001b[0;32m~/Codes/pynars/Tests/../pynars/NARS/DataStructures/_py/EventBuffer/EventBuffer.py:50\u001b[0m, in \u001b[0;36mEventBuffer.generate_predictions\u001b[0;34m(self)\u001b[0m\n\u001b[1;32m     48\u001b[0m term \u001b[39m=\u001b[39m event\u001b[39m.\u001b[39mterm   \n\u001b[1;32m     49\u001b[0m predictions \u001b[39m=\u001b[39m []\n\u001b[0;32m---> 50\u001b[0m \u001b[39mfor\u001b[39;00m compound \u001b[39min\u001b[39;00m \u001b[39mrange\u001b[39;49m(compounds):\n\u001b[1;32m     51\u001b[0m     prediction \u001b[39m=\u001b[39m Task(Judgement(Statement\u001b[39m.\u001b[39mPredictiveImplication(compound, term)))\n\u001b[1;32m     52\u001b[0m     predictions\u001b[39m.\u001b[39mappend(prediction)\n",
      "\u001b[0;31mTypeError\u001b[0m: 'list' object cannot be interpreted as an integer"
     ]
    }
   ],
   "source": [
    "eb.generate_predictions()"
   ]
  },
  {
   "cell_type": "code",
   "execution_count": null,
   "metadata": {},
   "outputs": [],
   "source": [
    "[1,2,3][-2:None]"
   ]
  }
 ],
 "metadata": {
  "kernelspec": {
   "display_name": "PyNARS",
   "language": "python",
   "name": "python3"
  },
  "language_info": {
   "codemirror_mode": {
    "name": "ipython",
    "version": 3
   },
   "file_extension": ".py",
   "mimetype": "text/x-python",
   "name": "python",
   "nbconvert_exporter": "python",
   "pygments_lexer": "ipython3",
   "version": "3.8.13"
  },
  "orig_nbformat": 4
 },
 "nbformat": 4,
 "nbformat_minor": 2
}
