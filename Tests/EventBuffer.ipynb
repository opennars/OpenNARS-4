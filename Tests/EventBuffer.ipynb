{
 "cells": [
  {
   "cell_type": "code",
   "execution_count": 1,
   "metadata": {},
   "outputs": [
    {
     "name": "stdout",
     "output_type": "stream",
     "text": [
      "PyNARS version v0.0.2 pre-alpha\n",
      "The file `config.json` does not exist.\n",
      "Loaded config file: /Users/bowenxu/Codes/pynars/Tests/../pynars/config.json\n"
     ]
    },
    {
     "ename": "ImportError",
     "evalue": "cannot import name 'Buffer' from partially initialized module 'pynars.NARS.DataStructures' (most likely due to a circular import) (/Users/bowenxu/Codes/pynars/Tests/../pynars/NARS/DataStructures/__init__.py)",
     "output_type": "error",
     "traceback": [
      "\u001b[0;31m---------------------------------------------------------------------------\u001b[0m",
      "\u001b[0;31mImportError\u001b[0m                               Traceback (most recent call last)",
      "\u001b[1;32m/Users/bowenxu/Codes/pynars/Tests/EventBuffer.ipynb Cell 1\u001b[0m in \u001b[0;36m2\n\u001b[1;32m      <a href='vscode-notebook-cell:/Users/bowenxu/Codes/pynars/Tests/EventBuffer.ipynb#W0sZmlsZQ%3D%3D?line=0'>1</a>\u001b[0m \u001b[39mimport\u001b[39;00m \u001b[39msys\u001b[39;00m; sys\u001b[39m.\u001b[39mpath\u001b[39m.\u001b[39mappend(\u001b[39m\"\u001b[39m\u001b[39m..\u001b[39m\u001b[39m\"\u001b[39m) \u001b[39mif\u001b[39;00m \u001b[39m\"\u001b[39m\u001b[39m..\u001b[39m\u001b[39m\"\u001b[39m \u001b[39mnot\u001b[39;00m \u001b[39min\u001b[39;00m sys\u001b[39m.\u001b[39mpath \u001b[39melse\u001b[39;00m \u001b[39mNone\u001b[39;00m\n\u001b[0;32m----> <a href='vscode-notebook-cell:/Users/bowenxu/Codes/pynars/Tests/EventBuffer.ipynb#W0sZmlsZQ%3D%3D?line=1'>2</a>\u001b[0m \u001b[39mfrom\u001b[39;00m \u001b[39mpynars\u001b[39;00m\u001b[39m.\u001b[39;00m\u001b[39mNARS\u001b[39;00m\u001b[39m.\u001b[39;00m\u001b[39mDataStructures\u001b[39;00m\u001b[39m.\u001b[39;00m\u001b[39m_py\u001b[39;00m\u001b[39m.\u001b[39;00m\u001b[39mEventBuffer\u001b[39;00m \u001b[39mimport\u001b[39;00m EventBuffer\n\u001b[1;32m      <a href='vscode-notebook-cell:/Users/bowenxu/Codes/pynars/Tests/EventBuffer.ipynb#W0sZmlsZQ%3D%3D?line=2'>3</a>\u001b[0m \u001b[39mfrom\u001b[39;00m \u001b[39mpynars\u001b[39;00m\u001b[39m.\u001b[39;00m\u001b[39mNarsese\u001b[39;00m \u001b[39mimport\u001b[39;00m Term, Task, Judgement\n",
      "File \u001b[0;32m~/Codes/pynars/Tests/../pynars/NARS/__init__.py:1\u001b[0m\n\u001b[0;32m----> 1\u001b[0m \u001b[39mfrom\u001b[39;00m \u001b[39m.\u001b[39;00m\u001b[39mControl\u001b[39;00m \u001b[39mimport\u001b[39;00m Reasoner\n",
      "File \u001b[0;32m~/Codes/pynars/Tests/../pynars/NARS/Control/__init__.py:1\u001b[0m\n\u001b[0;32m----> 1\u001b[0m \u001b[39mfrom\u001b[39;00m \u001b[39m.\u001b[39;00m\u001b[39mReasoner\u001b[39;00m \u001b[39mimport\u001b[39;00m Reasoner\n",
      "File \u001b[0;32m~/Codes/pynars/Tests/../pynars/NARS/Control/Reasoner.py:3\u001b[0m\n\u001b[1;32m      1\u001b[0m \u001b[39mfrom\u001b[39;00m \u001b[39mos\u001b[39;00m \u001b[39mimport\u001b[39;00m remove\n\u001b[1;32m      2\u001b[0m \u001b[39mfrom\u001b[39;00m \u001b[39mpynars\u001b[39;00m\u001b[39m.\u001b[39;00m\u001b[39mNAL\u001b[39;00m\u001b[39m.\u001b[39;00m\u001b[39mFunctions\u001b[39;00m\u001b[39m.\u001b[39;00m\u001b[39mTools\u001b[39;00m \u001b[39mimport\u001b[39;00m truth_to_quality\n\u001b[0;32m----> 3\u001b[0m \u001b[39mfrom\u001b[39;00m \u001b[39mpynars\u001b[39;00m\u001b[39m.\u001b[39;00m\u001b[39mNARS\u001b[39;00m\u001b[39m.\u001b[39;00m\u001b[39mDataStructures\u001b[39;00m\u001b[39m.\u001b[39;00m\u001b[39m_py\u001b[39;00m\u001b[39m.\u001b[39;00m\u001b[39mChannel\u001b[39;00m \u001b[39mimport\u001b[39;00m Channel\n\u001b[1;32m      5\u001b[0m \u001b[39mfrom\u001b[39;00m \u001b[39mpynars\u001b[39;00m\u001b[39m.\u001b[39;00m\u001b[39mNARS\u001b[39;00m\u001b[39m.\u001b[39;00m\u001b[39mDataStructures\u001b[39;00m\u001b[39m.\u001b[39;00m\u001b[39m_py\u001b[39;00m\u001b[39m.\u001b[39;00m\u001b[39mLink\u001b[39;00m \u001b[39mimport\u001b[39;00m TaskLink\n\u001b[1;32m      6\u001b[0m \u001b[39mfrom\u001b[39;00m \u001b[39mpynars\u001b[39;00m\u001b[39m.\u001b[39;00m\u001b[39mNARS\u001b[39;00m\u001b[39m.\u001b[39;00m\u001b[39mInferenceEngine\u001b[39;00m \u001b[39mimport\u001b[39;00m TemporalEngine\n",
      "File \u001b[0;32m~/Codes/pynars/Tests/../pynars/NARS/DataStructures/__init__.py:8\u001b[0m\n\u001b[1;32m      4\u001b[0m \u001b[39mif\u001b[39;00m \u001b[39mTrue\u001b[39;00m:\n\u001b[1;32m      5\u001b[0m     \u001b[39m# import from _py\u001b[39;00m\n\u001b[1;32m      6\u001b[0m     \u001b[39m# from ._py import *\u001b[39;00m\n\u001b[1;32m      7\u001b[0m     \u001b[39mfrom\u001b[39;00m \u001b[39m.\u001b[39;00m\u001b[39m_py\u001b[39;00m\u001b[39m.\u001b[39;00m\u001b[39mBag\u001b[39;00m \u001b[39mimport\u001b[39;00m \u001b[39m*\u001b[39m\n\u001b[0;32m----> 8\u001b[0m     \u001b[39mfrom\u001b[39;00m \u001b[39m.\u001b[39;00m\u001b[39m_py\u001b[39;00m\u001b[39m.\u001b[39;00m\u001b[39mBuffer\u001b[39;00m \u001b[39mimport\u001b[39;00m \u001b[39m*\u001b[39m\n\u001b[1;32m      9\u001b[0m     \u001b[39mfrom\u001b[39;00m \u001b[39m.\u001b[39;00m\u001b[39m_py\u001b[39;00m\u001b[39m.\u001b[39;00m\u001b[39mChannel\u001b[39;00m \u001b[39mimport\u001b[39;00m \u001b[39m*\u001b[39m\n\u001b[1;32m     10\u001b[0m     \u001b[39mfrom\u001b[39;00m \u001b[39m.\u001b[39;00m\u001b[39m_py\u001b[39;00m\u001b[39m.\u001b[39;00m\u001b[39mConcept\u001b[39;00m \u001b[39mimport\u001b[39;00m \u001b[39m*\u001b[39m\n",
      "File \u001b[0;32m~/Codes/pynars/Tests/../pynars/NARS/DataStructures/_py/Buffer.py:3\u001b[0m\n\u001b[1;32m      1\u001b[0m \u001b[39mfrom\u001b[39;00m \u001b[39mpynars\u001b[39;00m\u001b[39m.\u001b[39;00m\u001b[39mNAL\u001b[39;00m\u001b[39m.\u001b[39;00m\u001b[39mFunctions\u001b[39;00m \u001b[39mimport\u001b[39;00m Stamp_merge, Budget_merge, Truth_induction, Truth_deduction, Budget_forward\n\u001b[1;32m      2\u001b[0m \u001b[39mfrom\u001b[39;00m \u001b[39mpynars\u001b[39;00m\u001b[39m.\u001b[39;00m\u001b[39mNAL\u001b[39;00m\u001b[39m.\u001b[39;00m\u001b[39mInference\u001b[39;00m\u001b[39m.\u001b[39;00m\u001b[39mLocalRules\u001b[39;00m \u001b[39mimport\u001b[39;00m revision\n\u001b[0;32m----> 3\u001b[0m \u001b[39mfrom\u001b[39;00m \u001b[39mpynars\u001b[39;00m\u001b[39m.\u001b[39;00m\u001b[39mNARS\u001b[39;00m\u001b[39m.\u001b[39;00m\u001b[39mDataStructures\u001b[39;00m\u001b[39m.\u001b[39;00m\u001b[39m_py\u001b[39;00m\u001b[39m.\u001b[39;00m\u001b[39mAnticipation\u001b[39;00m \u001b[39mimport\u001b[39;00m Anticipation\n\u001b[1;32m      4\u001b[0m \u001b[39mfrom\u001b[39;00m \u001b[39mpynars\u001b[39;00m\u001b[39m.\u001b[39;00m\u001b[39mNARS\u001b[39;00m\u001b[39m.\u001b[39;00m\u001b[39mDataStructures\u001b[39;00m\u001b[39m.\u001b[39;00m\u001b[39m_py\u001b[39;00m\u001b[39m.\u001b[39;00m\u001b[39mSlot\u001b[39;00m \u001b[39mimport\u001b[39;00m Slot\n\u001b[1;32m      5\u001b[0m \u001b[39mfrom\u001b[39;00m \u001b[39mpynars\u001b[39;00m\u001b[39m.\u001b[39;00m\u001b[39mNarsese\u001b[39;00m \u001b[39mimport\u001b[39;00m Compound, Task, Judgement, Interval, Statement, Copula, Goal, Term, Connector\n",
      "File \u001b[0;32m~/Codes/pynars/Tests/../pynars/NARS/DataStructures/_py/Anticipation.py:5\u001b[0m\n\u001b[1;32m      3\u001b[0m \u001b[39mfrom\u001b[39;00m \u001b[39mpynars\u001b[39;00m\u001b[39m.\u001b[39;00m\u001b[39mNarsese\u001b[39;00m \u001b[39mimport\u001b[39;00m Task, parser, Judgement, Truth, Budget\n\u001b[1;32m      4\u001b[0m \u001b[39mfrom\u001b[39;00m \u001b[39mpynars\u001b[39;00m\u001b[39m.\u001b[39;00m\u001b[39mNAL\u001b[39;00m\u001b[39m.\u001b[39;00m\u001b[39mInference\u001b[39;00m\u001b[39m.\u001b[39;00m\u001b[39mLocalRules\u001b[39;00m \u001b[39mimport\u001b[39;00m revision\n\u001b[0;32m----> 5\u001b[0m \u001b[39mfrom\u001b[39;00m \u001b[39mpynars\u001b[39;00m\u001b[39m.\u001b[39;00m\u001b[39mNARS\u001b[39;00m\u001b[39m.\u001b[39;00m\u001b[39mDataStructures\u001b[39;00m \u001b[39mimport\u001b[39;00m Buffer\n\u001b[1;32m      8\u001b[0m \u001b[39mclass\u001b[39;00m \u001b[39mAnticipation\u001b[39;00m:\n\u001b[1;32m      9\u001b[0m     \u001b[39m\"\"\"\u001b[39;00m\n\u001b[1;32m     10\u001b[0m \u001b[39m    Anticipation is the anticipation made by some predictions, e.g., (A, A=/>B |- B)\u001b[39;00m\n\u001b[1;32m     11\u001b[0m \u001b[39m    It contains two parts:\u001b[39;00m\n\u001b[1;32m     12\u001b[0m \u001b[39m        1) the body of the anticipation, which is a task,\u001b[39;00m\n\u001b[1;32m     13\u001b[0m \u001b[39m        2) the prediction makes this anticipation, which is used for updating when the first part is satisfied/unsatisfied\u001b[39;00m\n\u001b[1;32m     14\u001b[0m \u001b[39m    \"\"\"\u001b[39;00m\n",
      "\u001b[0;31mImportError\u001b[0m: cannot import name 'Buffer' from partially initialized module 'pynars.NARS.DataStructures' (most likely due to a circular import) (/Users/bowenxu/Codes/pynars/Tests/../pynars/NARS/DataStructures/__init__.py)"
     ]
    }
   ],
   "source": [
    "import sys; sys.path.append(\"..\") if \"..\" not in sys.path else None\n",
    "from pynars.NARS.DataStructures._py.EventBuffer import EventBuffer\n",
    "from pynars.Narsese import Term, Task, Judgement"
   ]
  },
  {
   "cell_type": "code",
   "execution_count": null,
   "metadata": {},
   "outputs": [],
   "source": [
    "eb = EventBuffer(5, 1000)"
   ]
  },
  {
   "cell_type": "code",
   "execution_count": null,
   "metadata": {},
   "outputs": [],
   "source": [
    "seq = ['A', 'B', 'C', 'D']\n",
    "seq_events = [Task(Judgement(Term(word))) for word in seq]"
   ]
  },
  {
   "cell_type": "code",
   "execution_count": null,
   "metadata": {},
   "outputs": [],
   "source": [
    "eb.slots.future"
   ]
  },
  {
   "cell_type": "code",
   "execution_count": null,
   "metadata": {},
   "outputs": [],
   "source": [
    "for event in seq_events:\n",
    "    eb.append([event])"
   ]
  },
  {
   "cell_type": "code",
   "execution_count": null,
   "metadata": {},
   "outputs": [],
   "source": [
    "eb.combination()"
   ]
  },
  {
   "cell_type": "code",
   "execution_count": null,
   "metadata": {},
   "outputs": [],
   "source": [
    "eb.combination(1)\n"
   ]
  },
  {
   "cell_type": "code",
   "execution_count": null,
   "metadata": {},
   "outputs": [],
   "source": [
    "eb.generate_predictions()"
   ]
  },
  {
   "cell_type": "code",
   "execution_count": null,
   "metadata": {},
   "outputs": [],
   "source": [
    "[1,2,3][-2:None]"
   ]
  }
 ],
 "metadata": {
  "kernelspec": {
   "display_name": "PyNARS",
   "language": "python",
   "name": "python3"
  },
  "language_info": {
   "codemirror_mode": {
    "name": "ipython",
    "version": 3
   },
   "file_extension": ".py",
   "mimetype": "text/x-python",
   "name": "python",
   "nbconvert_exporter": "python",
   "pygments_lexer": "ipython3",
   "version": "3.8.13"
  },
  "orig_nbformat": 4
 },
 "nbformat": 4,
 "nbformat_minor": 2
}
